{
 "cells": [
  {
   "cell_type": "code",
   "execution_count": 149,
   "metadata": {
    "collapsed": true
   },
   "outputs": [],
   "source": [
    "from random import random\n",
    "from agents import *\n",
    "import agents\n",
    "from copy import copy"
   ]
  },
  {
   "cell_type": "code",
   "execution_count": 150,
   "metadata": {
    "collapsed": true
   },
   "outputs": [],
   "source": [
    "queens = 32\n",
    "k = queens"
   ]
  },
  {
   "cell_type": "code",
   "execution_count": 151,
   "metadata": {},
   "outputs": [],
   "source": [
    "class QueensEnvironment(agents.Environment):\n",
    "    \n",
    "    def __init__(self):\n",
    "        super().__init__()\n",
    "        self.random_state()\n",
    "        self.fail_times, self.win_times = [], []\n",
    "        \n",
    "    def random_state(self):\n",
    "        self.state = [[int(queens * random.random()) for j in range(queens) ] for a in range(k)]\n",
    "    \n",
    "    def percept(self, agent):\n",
    "        return self.state\n",
    "    \n",
    "    def execute_action(self, agent, action):\n",
    "        \n",
    "        if action == \"Success\":\n",
    "            self.win_times.append(agent.performance)\n",
    "            agent.performance = 0\n",
    "            self.random_state()\n",
    "        \n",
    "        elif agent.performance >= int(0.5*queens):\n",
    "            self.fail_times.append(agent.performance)\n",
    "            self.random_state()\n",
    "            agent.performance = 0\n",
    "            print(agent.performance)\n",
    "        else:\n",
    "            agent.performance += 1\n",
    "            self.state = action\n",
    "\n",
    "    def print_stats(self):\n",
    "        print(\"Win ratio:\", len(self.win_times)/ (len(self.fail_times) + len(self.win_times)))\n",
    "        print(\"Average fail time:\", sum(self.fail_times)/len(self.fail_times))\n",
    "        print(\"Average win time:\", sum(self.win_times)/len(self.win_times))              "
   ]
  },
  {
   "cell_type": "code",
   "execution_count": 166,
   "metadata": {},
   "outputs": [],
   "source": [
    "def QueensHillClimbAgent():\n",
    "        \n",
    "    def count_collisions(state):\n",
    "        count = 0\n",
    "        for i in range(queens):\n",
    "            for j in range(i+1, queens):\n",
    "                if state[i] == state[j] or abs(state[i] - state[j]) == j - i:\n",
    "                    count += 1\n",
    "        return count\n",
    "    \n",
    "    def print_board(state):\n",
    "        print(\"--\"*(queens + 2))\n",
    "        for row in state:\n",
    "            print(str(row) + \" \" + \"  \" * row + \"x\" )\n",
    "        print(\"--\"* (queens + 2))\n",
    "\n",
    "    def check_actions(state, how_many):\n",
    "        d = dict()\n",
    "        run = copy(state)\n",
    "        for q in range(queens):\n",
    "            for i in range(queens):\n",
    "                run[q] = i\n",
    "                c = count_collisions(run)\n",
    "                d[c] = d.get(c, []) + [(c, copy(run))]\n",
    "            run[q] = state[q]\n",
    "        return pick_best(d, how_many)\n",
    "    \n",
    "    def pick_best(d, n):\n",
    "        l = []\n",
    "        for key in sorted(d):\n",
    "            l += d[key]\n",
    "            if len(l) > n:\n",
    "                break\n",
    "        return l[:n]\n",
    "    \n",
    "    def program(state):\n",
    "        # print_board(state)\n",
    "        top = []\n",
    "        for board in state:\n",
    "            top = sorted(top + check_actions(board, k))[:k]\n",
    "        print([el[0] for el in top])\n",
    "        \n",
    "        if(0 == top[0][0]):\n",
    "            print(\"Success\", state)\n",
    "            return \"Success\"\n",
    "        return [el[1] for el in top]\n",
    "        \n",
    "        \n",
    "    program.plateau_count = 0    \n",
    "    return program"
   ]
  },
  {
   "cell_type": "code",
   "execution_count": 167,
   "metadata": {},
   "outputs": [],
   "source": [
    "q = QueensEnvironment()"
   ]
  },
  {
   "cell_type": "code",
   "execution_count": 168,
   "metadata": {
    "collapsed": true
   },
   "outputs": [],
   "source": [
    "q.add_thing(Agent(QueensHillClimbAgent()))\n",
    "q.failures, q.wins = 0,0"
   ]
  },
  {
   "cell_type": "code",
   "execution_count": 169,
   "metadata": {},
   "outputs": [
    {
     "name": "stdout",
     "output_type": "stream",
     "text": [
      "[18, 18, 18, 18, 18, 18, 19, 19, 19, 19, 19, 19, 19, 19, 19, 19, 19, 19, 19, 19, 19, 19, 19, 19, 19, 19, 19, 19, 19, 19, 19, 19]\n",
      "[14, 14, 14, 14, 14, 14, 14, 14, 15, 15, 15, 15, 15, 15, 15, 15, 15, 15, 15, 15, 15, 15, 15, 15, 15, 15, 15, 15, 15, 15, 15, 15]\n",
      "[11, 11, 11, 11, 11, 11, 11, 11, 11, 11, 11, 11, 11, 11, 11, 11, 11, 11, 11, 11, 11, 11, 11, 11, 12, 12, 12, 12, 12, 12, 12, 12]\n",
      "[8, 8, 8, 8, 8, 8, 8, 8, 8, 8, 8, 8, 8, 8, 8, 8, 8, 8, 8, 8, 8, 8, 8, 8, 8, 8, 8, 8, 8, 8, 8, 8]\n",
      "[6, 6, 6, 6, 6, 6, 6, 6, 6, 6, 6, 6, 6, 6, 6, 6, 6, 6, 6, 6, 6, 6, 6, 6, 6, 6, 6, 6, 6, 6, 6, 6]\n",
      "[4, 4, 4, 4, 4, 4, 4, 4, 4, 4, 4, 4, 4, 4, 4, 4, 4, 4, 4, 4, 4, 4, 4, 4, 4, 4, 4, 4, 4, 4, 4, 4]\n",
      "[3, 3, 3, 3, 3, 3, 3, 3, 3, 3, 3, 3, 3, 3, 3, 3, 3, 3, 3, 3, 3, 3, 3, 3, 3, 3, 3, 3, 3, 3, 3, 3]\n",
      "[2, 2, 2, 2, 2, 2, 2, 2, 2, 2, 2, 2, 2, 2, 2, 2, 2, 2, 2, 2, 2, 2, 2, 2, 2, 2, 2, 2, 2, 2, 2, 2]\n",
      "[2, 2, 2, 2, 2, 2, 2, 2, 2, 2, 2, 2, 2, 2, 2, 2, 2, 2, 2, 2, 2, 2, 2, 2, 2, 2, 2, 2, 2, 2, 2, 2]\n",
      "[1, 1, 2, 2, 2, 2, 2, 2, 2, 2, 2, 2, 2, 2, 2, 2, 2, 2, 2, 2, 2, 2, 2, 2, 2, 2, 2, 2, 2, 2, 2, 2]\n",
      "[1, 1, 1, 1, 1, 1, 1, 1, 1, 1, 1, 1, 1, 1, 1, 1, 1, 1, 1, 1, 1, 1, 1, 1, 1, 1, 1, 1, 1, 1, 1, 1]\n",
      "[0, 0, 1, 1, 1, 1, 1, 1, 1, 1, 1, 1, 1, 1, 1, 1, 1, 1, 1, 1, 1, 1, 1, 1, 1, 1, 1, 1, 1, 1, 1, 1]\n",
      "Success [[2, 15, 20, 16, 23, 5, 12, 30, 9, 17, 3, 28, 21, 8, 24, 27, 31, 8, 14, 26, 4, 10, 19, 11, 22, 29, 18, 13, 1, 6, 0, 25], [2, 15, 20, 16, 23, 5, 12, 30, 9, 17, 3, 28, 21, 8, 24, 27, 31, 8, 14, 26, 4, 10, 19, 11, 22, 29, 18, 13, 1, 6, 0, 25], [2, 15, 20, 16, 23, 5, 12, 30, 9, 17, 3, 28, 21, 8, 24, 27, 31, 8, 14, 26, 4, 10, 19, 11, 22, 29, 18, 13, 1, 6, 0, 25], [2, 15, 20, 16, 23, 5, 12, 30, 9, 17, 3, 28, 21, 8, 24, 27, 31, 8, 14, 26, 4, 10, 19, 11, 22, 29, 18, 13, 1, 6, 0, 25], [2, 15, 20, 16, 23, 30, 12, 7, 9, 17, 3, 28, 21, 8, 24, 27, 31, 8, 5, 26, 4, 10, 19, 11, 22, 29, 18, 13, 1, 14, 0, 25], [2, 15, 20, 16, 23, 30, 12, 7, 9, 17, 3, 28, 21, 8, 24, 27, 31, 8, 5, 26, 4, 10, 19, 11, 22, 29, 18, 13, 1, 14, 0, 25], [2, 15, 20, 16, 23, 30, 12, 7, 9, 17, 3, 28, 21, 8, 24, 27, 31, 8, 5, 26, 4, 10, 19, 11, 22, 29, 18, 13, 1, 14, 0, 25], [2, 15, 20, 16, 23, 30, 12, 7, 9, 17, 3, 28, 21, 8, 24, 27, 31, 8, 5, 26, 4, 10, 19, 11, 22, 29, 18, 13, 1, 14, 0, 25], [5, 15, 13, 16, 3, 23, 12, 7, 9, 17, 30, 28, 21, 0, 24, 27, 31, 8, 14, 26, 4, 2, 19, 11, 22, 29, 18, 10, 1, 6, 0, 25], [5, 15, 13, 16, 3, 23, 12, 7, 9, 17, 30, 28, 21, 0, 24, 27, 31, 8, 14, 26, 4, 2, 19, 11, 22, 29, 18, 10, 1, 6, 0, 25], [5, 15, 13, 16, 3, 23, 12, 7, 9, 17, 30, 28, 21, 8, 24, 27, 31, 3, 14, 26, 4, 2, 19, 11, 22, 29, 18, 10, 1, 6, 0, 25], [5, 15, 13, 16, 3, 23, 12, 7, 9, 17, 30, 28, 21, 8, 24, 27, 31, 3, 14, 26, 4, 2, 19, 11, 22, 29, 18, 10, 1, 6, 0, 25], [5, 15, 13, 16, 3, 23, 12, 7, 9, 17, 30, 28, 21, 8, 24, 27, 31, 8, 14, 26, 4, 2, 19, 11, 22, 29, 18, 10, 1, 6, 0, 25], [5, 15, 13, 16, 3, 23, 12, 7, 9, 17, 30, 28, 21, 8, 24, 27, 31, 8, 14, 26, 4, 2, 19, 11, 22, 29, 18, 10, 1, 6, 0, 25], [5, 15, 13, 16, 3, 23, 12, 7, 9, 17, 30, 28, 21, 8, 24, 27, 31, 8, 14, 26, 4, 2, 19, 11, 22, 29, 18, 10, 1, 6, 0, 25], [5, 15, 13, 16, 3, 23, 12, 7, 9, 17, 30, 28, 21, 8, 24, 27, 31, 8, 14, 26, 4, 2, 19, 11, 22, 29, 18, 10, 1, 6, 0, 25], [5, 15, 13, 16, 3, 23, 12, 7, 9, 17, 30, 28, 21, 8, 24, 27, 31, 8, 14, 26, 4, 2, 19, 11, 22, 29, 18, 10, 1, 6, 0, 25], [5, 15, 13, 16, 3, 23, 12, 7, 9, 17, 30, 28, 21, 8, 24, 27, 31, 8, 14, 26, 4, 2, 19, 11, 22, 29, 18, 10, 1, 6, 0, 25], [5, 15, 13, 16, 3, 23, 12, 7, 9, 17, 30, 28, 21, 8, 24, 27, 31, 8, 14, 26, 4, 2, 19, 11, 22, 29, 18, 10, 1, 6, 0, 25], [5, 15, 13, 16, 3, 23, 12, 7, 9, 17, 30, 28, 21, 8, 24, 27, 31, 8, 14, 26, 4, 2, 19, 11, 22, 29, 18, 10, 1, 6, 0, 25], [5, 15, 13, 16, 3, 23, 12, 7, 9, 17, 30, 28, 21, 8, 24, 27, 31, 8, 14, 26, 4, 2, 19, 11, 22, 29, 18, 10, 1, 6, 0, 25], [5, 15, 13, 16, 3, 23, 12, 7, 9, 17, 30, 28, 21, 8, 24, 27, 31, 8, 14, 26, 4, 2, 19, 11, 22, 29, 18, 10, 1, 6, 0, 25], [5, 15, 13, 16, 3, 23, 12, 7, 9, 17, 30, 28, 21, 8, 24, 27, 31, 8, 14, 26, 4, 2, 19, 11, 22, 29, 18, 10, 1, 6, 0, 25], [5, 15, 13, 16, 3, 23, 12, 7, 9, 17, 30, 28, 21, 8, 24, 27, 31, 8, 14, 26, 4, 2, 19, 11, 22, 29, 18, 10, 1, 6, 0, 25], [5, 15, 13, 16, 3, 23, 12, 7, 9, 17, 30, 28, 21, 8, 24, 27, 31, 8, 14, 26, 4, 2, 19, 11, 22, 29, 18, 10, 1, 6, 0, 25], [5, 15, 13, 16, 3, 23, 12, 7, 9, 17, 30, 28, 21, 8, 24, 27, 31, 8, 14, 26, 4, 2, 19, 11, 22, 29, 18, 10, 1, 6, 0, 25], [5, 15, 13, 16, 3, 23, 12, 7, 9, 17, 30, 28, 21, 8, 24, 27, 31, 8, 14, 26, 4, 2, 19, 11, 22, 29, 18, 10, 1, 6, 0, 25], [5, 15, 13, 16, 3, 23, 12, 7, 9, 17, 30, 28, 21, 8, 24, 27, 31, 8, 14, 26, 4, 2, 19, 11, 22, 29, 18, 10, 1, 6, 0, 25], [5, 15, 13, 16, 3, 23, 12, 7, 9, 17, 30, 28, 21, 8, 24, 27, 31, 8, 14, 26, 4, 2, 19, 11, 22, 29, 18, 10, 1, 6, 0, 25], [5, 15, 13, 16, 3, 23, 12, 7, 9, 17, 30, 28, 21, 8, 24, 27, 31, 8, 14, 26, 4, 2, 19, 11, 22, 29, 18, 10, 1, 6, 0, 25], [5, 15, 13, 16, 3, 23, 12, 7, 9, 17, 30, 28, 21, 8, 24, 27, 31, 8, 14, 26, 4, 2, 19, 11, 22, 29, 18, 10, 1, 6, 0, 25], [5, 15, 13, 16, 3, 23, 12, 7, 9, 17, 30, 28, 21, 8, 24, 27, 31, 8, 14, 26, 4, 2, 19, 11, 22, 29, 18, 10, 1, 6, 0, 25]]\n",
      "[21, 21, 21, 21, 21, 22, 22, 22, 22, 22, 22, 22, 22, 22, 22, 22, 22, 22, 22, 22, 22, 22, 22, 22, 22, 22, 22, 22, 22, 22, 22, 22]\n",
      "[18, 18, 18, 18, 18, 18, 18, 18, 18, 18, 18, 18, 18, 18, 19, 19, 19, 19, 19, 19, 19, 19, 19, 19, 19, 19, 19, 19, 19, 19, 19, 19]\n",
      "[16, 16, 16, 16, 16, 16, 16, 16, 16, 16, 16, 16, 16, 16, 16, 16, 16, 16, 16, 16, 16, 16, 16, 16, 16, 16, 16, 16, 16, 16, 16, 16]\n",
      "[14, 14, 14, 14, 14, 14, 14, 14, 14, 14, 14, 14, 14, 14, 14, 14, 14, 14, 14, 14, 14, 14, 14, 14, 14, 14, 14, 14, 14, 14, 14, 14]\n",
      "[12, 12, 12, 12, 12, 12, 12, 12, 12, 12, 12, 12, 12, 12, 12, 12, 12, 12, 12, 12, 12, 12, 12, 12, 12, 12, 12, 12, 12, 12, 12, 12]\n"
     ]
    },
    {
     "ename": "KeyboardInterrupt",
     "evalue": "",
     "output_type": "error",
     "traceback": [
      "\u001b[0;31m-----------------------------------------------------------------------\u001b[0m",
      "\u001b[0;31mKeyboardInterrupt\u001b[0m                     Traceback (most recent call last)",
      "\u001b[0;32m<ipython-input-169-0512e7bc248d>\u001b[0m in \u001b[0;36m<module>\u001b[0;34m()\u001b[0m\n\u001b[0;32m----> 1\u001b[0;31m \u001b[0mq\u001b[0m\u001b[0;34m.\u001b[0m\u001b[0mrun\u001b[0m\u001b[0;34m(\u001b[0m\u001b[0;36m1000\u001b[0m\u001b[0;34m)\u001b[0m\u001b[0;34m\u001b[0m\u001b[0m\n\u001b[0m",
      "\u001b[0;32m~/git_test/aima-python/agents.py\u001b[0m in \u001b[0;36mrun\u001b[0;34m(self, steps)\u001b[0m\n\u001b[1;32m    286\u001b[0m             \u001b[0;32mif\u001b[0m \u001b[0mself\u001b[0m\u001b[0;34m.\u001b[0m\u001b[0mis_done\u001b[0m\u001b[0;34m(\u001b[0m\u001b[0;34m)\u001b[0m\u001b[0;34m:\u001b[0m\u001b[0;34m\u001b[0m\u001b[0m\n\u001b[1;32m    287\u001b[0m                 \u001b[0;32mreturn\u001b[0m\u001b[0;34m\u001b[0m\u001b[0m\n\u001b[0;32m--> 288\u001b[0;31m             \u001b[0mself\u001b[0m\u001b[0;34m.\u001b[0m\u001b[0mstep\u001b[0m\u001b[0;34m(\u001b[0m\u001b[0;34m)\u001b[0m\u001b[0;34m\u001b[0m\u001b[0m\n\u001b[0m\u001b[1;32m    289\u001b[0m \u001b[0;34m\u001b[0m\u001b[0m\n\u001b[1;32m    290\u001b[0m     \u001b[0;32mdef\u001b[0m \u001b[0mlist_things_at\u001b[0m\u001b[0;34m(\u001b[0m\u001b[0mself\u001b[0m\u001b[0;34m,\u001b[0m \u001b[0mlocation\u001b[0m\u001b[0;34m,\u001b[0m \u001b[0mtclass\u001b[0m\u001b[0;34m=\u001b[0m\u001b[0mThing\u001b[0m\u001b[0;34m)\u001b[0m\u001b[0;34m:\u001b[0m\u001b[0;34m\u001b[0m\u001b[0m\n",
      "\u001b[0;32m~/git_test/aima-python/agents.py\u001b[0m in \u001b[0;36mstep\u001b[0;34m(self)\u001b[0m\n\u001b[1;32m    274\u001b[0m             \u001b[0;32mfor\u001b[0m \u001b[0magent\u001b[0m \u001b[0;32min\u001b[0m \u001b[0mself\u001b[0m\u001b[0;34m.\u001b[0m\u001b[0magents\u001b[0m\u001b[0;34m:\u001b[0m\u001b[0;34m\u001b[0m\u001b[0m\n\u001b[1;32m    275\u001b[0m                 \u001b[0;32mif\u001b[0m \u001b[0magent\u001b[0m\u001b[0;34m.\u001b[0m\u001b[0malive\u001b[0m\u001b[0;34m:\u001b[0m\u001b[0;34m\u001b[0m\u001b[0m\n\u001b[0;32m--> 276\u001b[0;31m                     \u001b[0mactions\u001b[0m\u001b[0;34m.\u001b[0m\u001b[0mappend\u001b[0m\u001b[0;34m(\u001b[0m\u001b[0magent\u001b[0m\u001b[0;34m.\u001b[0m\u001b[0mprogram\u001b[0m\u001b[0;34m(\u001b[0m\u001b[0mself\u001b[0m\u001b[0;34m.\u001b[0m\u001b[0mpercept\u001b[0m\u001b[0;34m(\u001b[0m\u001b[0magent\u001b[0m\u001b[0;34m)\u001b[0m\u001b[0;34m)\u001b[0m\u001b[0;34m)\u001b[0m\u001b[0;34m\u001b[0m\u001b[0m\n\u001b[0m\u001b[1;32m    277\u001b[0m                 \u001b[0;32melse\u001b[0m\u001b[0;34m:\u001b[0m\u001b[0;34m\u001b[0m\u001b[0m\n\u001b[1;32m    278\u001b[0m                     \u001b[0mactions\u001b[0m\u001b[0;34m.\u001b[0m\u001b[0mappend\u001b[0m\u001b[0;34m(\u001b[0m\u001b[0;34m\"\"\u001b[0m\u001b[0;34m)\u001b[0m\u001b[0;34m\u001b[0m\u001b[0m\n",
      "\u001b[0;32m<ipython-input-166-16c77291e1e3>\u001b[0m in \u001b[0;36mprogram\u001b[0;34m(state)\u001b[0m\n\u001b[1;32m     38\u001b[0m         \u001b[0mtop\u001b[0m \u001b[0;34m=\u001b[0m \u001b[0;34m[\u001b[0m\u001b[0;34m]\u001b[0m\u001b[0;34m\u001b[0m\u001b[0m\n\u001b[1;32m     39\u001b[0m         \u001b[0;32mfor\u001b[0m \u001b[0mboard\u001b[0m \u001b[0;32min\u001b[0m \u001b[0mstate\u001b[0m\u001b[0;34m:\u001b[0m\u001b[0;34m\u001b[0m\u001b[0m\n\u001b[0;32m---> 40\u001b[0;31m             \u001b[0mtop\u001b[0m \u001b[0;34m=\u001b[0m \u001b[0msorted\u001b[0m\u001b[0;34m(\u001b[0m\u001b[0mtop\u001b[0m \u001b[0;34m+\u001b[0m \u001b[0mcheck_actions\u001b[0m\u001b[0;34m(\u001b[0m\u001b[0mboard\u001b[0m\u001b[0;34m,\u001b[0m \u001b[0mk\u001b[0m\u001b[0;34m)\u001b[0m\u001b[0;34m)\u001b[0m\u001b[0;34m[\u001b[0m\u001b[0;34m:\u001b[0m\u001b[0mk\u001b[0m\u001b[0;34m]\u001b[0m\u001b[0;34m\u001b[0m\u001b[0m\n\u001b[0m\u001b[1;32m     41\u001b[0m         \u001b[0mprint\u001b[0m\u001b[0;34m(\u001b[0m\u001b[0;34m[\u001b[0m\u001b[0mel\u001b[0m\u001b[0;34m[\u001b[0m\u001b[0;36m0\u001b[0m\u001b[0;34m]\u001b[0m \u001b[0;32mfor\u001b[0m \u001b[0mel\u001b[0m \u001b[0;32min\u001b[0m \u001b[0mtop\u001b[0m\u001b[0;34m]\u001b[0m\u001b[0;34m)\u001b[0m\u001b[0;34m\u001b[0m\u001b[0m\n\u001b[1;32m     42\u001b[0m \u001b[0;34m\u001b[0m\u001b[0m\n",
      "\u001b[0;32m<ipython-input-166-16c77291e1e3>\u001b[0m in \u001b[0;36mcheck_actions\u001b[0;34m(state, how_many)\u001b[0m\n\u001b[1;32m     21\u001b[0m             \u001b[0;32mfor\u001b[0m \u001b[0mi\u001b[0m \u001b[0;32min\u001b[0m \u001b[0mrange\u001b[0m\u001b[0;34m(\u001b[0m\u001b[0mqueens\u001b[0m\u001b[0;34m)\u001b[0m\u001b[0;34m:\u001b[0m\u001b[0;34m\u001b[0m\u001b[0m\n\u001b[1;32m     22\u001b[0m                 \u001b[0mrun\u001b[0m\u001b[0;34m[\u001b[0m\u001b[0mq\u001b[0m\u001b[0;34m]\u001b[0m \u001b[0;34m=\u001b[0m \u001b[0mi\u001b[0m\u001b[0;34m\u001b[0m\u001b[0m\n\u001b[0;32m---> 23\u001b[0;31m                 \u001b[0mc\u001b[0m \u001b[0;34m=\u001b[0m \u001b[0mcount_collisions\u001b[0m\u001b[0;34m(\u001b[0m\u001b[0mrun\u001b[0m\u001b[0;34m)\u001b[0m\u001b[0;34m\u001b[0m\u001b[0m\n\u001b[0m\u001b[1;32m     24\u001b[0m                 \u001b[0md\u001b[0m\u001b[0;34m[\u001b[0m\u001b[0mc\u001b[0m\u001b[0;34m]\u001b[0m \u001b[0;34m=\u001b[0m \u001b[0md\u001b[0m\u001b[0;34m.\u001b[0m\u001b[0mget\u001b[0m\u001b[0;34m(\u001b[0m\u001b[0mc\u001b[0m\u001b[0;34m,\u001b[0m \u001b[0;34m[\u001b[0m\u001b[0;34m]\u001b[0m\u001b[0;34m)\u001b[0m \u001b[0;34m+\u001b[0m \u001b[0;34m[\u001b[0m\u001b[0;34m(\u001b[0m\u001b[0mc\u001b[0m\u001b[0;34m,\u001b[0m \u001b[0mcopy\u001b[0m\u001b[0;34m(\u001b[0m\u001b[0mrun\u001b[0m\u001b[0;34m)\u001b[0m\u001b[0;34m)\u001b[0m\u001b[0;34m]\u001b[0m\u001b[0;34m\u001b[0m\u001b[0m\n\u001b[1;32m     25\u001b[0m             \u001b[0mrun\u001b[0m\u001b[0;34m[\u001b[0m\u001b[0mq\u001b[0m\u001b[0;34m]\u001b[0m \u001b[0;34m=\u001b[0m \u001b[0mstate\u001b[0m\u001b[0;34m[\u001b[0m\u001b[0mq\u001b[0m\u001b[0;34m]\u001b[0m\u001b[0;34m\u001b[0m\u001b[0m\n",
      "\u001b[0;32m<ipython-input-166-16c77291e1e3>\u001b[0m in \u001b[0;36mcount_collisions\u001b[0;34m(state)\u001b[0m\n\u001b[1;32m      5\u001b[0m         \u001b[0;32mfor\u001b[0m \u001b[0mi\u001b[0m \u001b[0;32min\u001b[0m \u001b[0mrange\u001b[0m\u001b[0;34m(\u001b[0m\u001b[0mqueens\u001b[0m\u001b[0;34m)\u001b[0m\u001b[0;34m:\u001b[0m\u001b[0;34m\u001b[0m\u001b[0m\n\u001b[1;32m      6\u001b[0m             \u001b[0;32mfor\u001b[0m \u001b[0mj\u001b[0m \u001b[0;32min\u001b[0m \u001b[0mrange\u001b[0m\u001b[0;34m(\u001b[0m\u001b[0mi\u001b[0m\u001b[0;34m+\u001b[0m\u001b[0;36m1\u001b[0m\u001b[0;34m,\u001b[0m \u001b[0mqueens\u001b[0m\u001b[0;34m)\u001b[0m\u001b[0;34m:\u001b[0m\u001b[0;34m\u001b[0m\u001b[0m\n\u001b[0;32m----> 7\u001b[0;31m                 \u001b[0;32mif\u001b[0m \u001b[0mstate\u001b[0m\u001b[0;34m[\u001b[0m\u001b[0mi\u001b[0m\u001b[0;34m]\u001b[0m \u001b[0;34m==\u001b[0m \u001b[0mstate\u001b[0m\u001b[0;34m[\u001b[0m\u001b[0mj\u001b[0m\u001b[0;34m]\u001b[0m \u001b[0;32mor\u001b[0m \u001b[0mabs\u001b[0m\u001b[0;34m(\u001b[0m\u001b[0mstate\u001b[0m\u001b[0;34m[\u001b[0m\u001b[0mi\u001b[0m\u001b[0;34m]\u001b[0m \u001b[0;34m-\u001b[0m \u001b[0mstate\u001b[0m\u001b[0;34m[\u001b[0m\u001b[0mj\u001b[0m\u001b[0;34m]\u001b[0m\u001b[0;34m)\u001b[0m \u001b[0;34m==\u001b[0m \u001b[0mj\u001b[0m \u001b[0;34m-\u001b[0m \u001b[0mi\u001b[0m\u001b[0;34m:\u001b[0m\u001b[0;34m\u001b[0m\u001b[0m\n\u001b[0m\u001b[1;32m      8\u001b[0m                     \u001b[0mcount\u001b[0m \u001b[0;34m+=\u001b[0m \u001b[0;36m1\u001b[0m\u001b[0;34m\u001b[0m\u001b[0m\n\u001b[1;32m      9\u001b[0m         \u001b[0;32mreturn\u001b[0m \u001b[0mcount\u001b[0m\u001b[0;34m\u001b[0m\u001b[0m\n",
      "\u001b[0;31mKeyboardInterrupt\u001b[0m: "
     ]
    }
   ],
   "source": [
    "q.run(1000)"
   ]
  },
  {
   "cell_type": "code",
   "execution_count": 140,
   "metadata": {},
   "outputs": [
    {
     "name": "stdout",
     "output_type": "stream",
     "text": [
      "Win ratio: 0.7935943060498221\n",
      "Average fail time: 4.0\n",
      "Average win time: 2.1659192825112106\n"
     ]
    }
   ],
   "source": [
    "q.print_stats()"
   ]
  },
  {
   "cell_type": "code",
   "execution_count": 141,
   "metadata": {
    "collapsed": true
   },
   "outputs": [],
   "source": [
    "l = [(7, 4), (3, 4), (6, 2)]"
   ]
  },
  {
   "cell_type": "code",
   "execution_count": 142,
   "metadata": {},
   "outputs": [
    {
     "data": {
      "text/plain": [
       "[(3, 4), (6, 2), (7, 4)]"
      ]
     },
     "execution_count": 142,
     "metadata": {},
     "output_type": "execute_result"
    }
   ],
   "source": [
    "sorted(l)"
   ]
  },
  {
   "cell_type": "code",
   "execution_count": 160,
   "metadata": {},
   "outputs": [
    {
     "data": {
      "text/plain": [
       "{(2, 2)}"
      ]
     },
     "execution_count": 160,
     "metadata": {},
     "output_type": "execute_result"
    }
   ],
   "source": [
    "set([(2, 2)])"
   ]
  },
  {
   "cell_type": "code",
   "execution_count": null,
   "metadata": {
    "collapsed": true
   },
   "outputs": [],
   "source": []
  }
 ],
 "metadata": {
  "kernelspec": {
   "display_name": "Python 3",
   "language": "python",
   "name": "python3"
  },
  "language_info": {
   "codemirror_mode": {
    "name": "ipython",
    "version": 3
   },
   "file_extension": ".py",
   "mimetype": "text/x-python",
   "name": "python",
   "nbconvert_exporter": "python",
   "pygments_lexer": "ipython3",
   "version": "3.6.2"
  }
 },
 "nbformat": 4,
 "nbformat_minor": 2
}
