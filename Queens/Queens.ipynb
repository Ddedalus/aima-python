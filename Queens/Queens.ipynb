{
 "cells": [
  {
   "cell_type": "code",
   "execution_count": 1,
   "metadata": {
    "collapsed": true
   },
   "outputs": [],
   "source": [
    "import numpy as np\n",
    "from importlib import reload\n",
    "from Environment import QueensEnv\n",
    "from SteepestAscentAgent import SteepestAscentAgent"
   ]
  },
  {
   "cell_type": "code",
   "execution_count": 2,
   "metadata": {
    "collapsed": true
   },
   "outputs": [],
   "source": [
    "queens = 8\n",
    "k = 8\n",
    "# reload(Environment)\n",
    "# reload(SteepestAscentAgent)"
   ]
  },
  {
   "cell_type": "code",
   "execution_count": 3,
   "metadata": {
    "collapsed": true
   },
   "outputs": [],
   "source": [
    "agentGenerator = SteepestAscentAgent()\n",
    "agent = agentGenerator.new_agent()\n",
    "a2 = agentGenerator.new_agent()\n",
    "env = QueensEnv([agent])"
   ]
  },
  {
   "cell_type": "code",
   "execution_count": 4,
   "metadata": {},
   "outputs": [
    {
     "name": "stdout",
     "output_type": "stream",
     "text": [
      "Returning  (3, [0, 5, 5, 1, 6, 4, 2, 2])\nReturning  (2, [0, 5, 3, 1, 6, 4, 2, 2])\nReturning  (1, [0, 5, 3, 1, 6, 4, 2, 0])\n"
     ]
    }
   ],
   "source": [
    "env.run(20)"
   ]
  },
  {
   "cell_type": "code",
   "execution_count": 11,
   "metadata": {},
   "outputs": [
    {
     "name": "stdout",
     "output_type": "stream",
     "text": [
      "[2 2 6 3 7 0 3 5]\n[2 2 6 3 7 0 3 5]\n69\n"
     ]
    }
   ],
   "source": [
    "env.step()\n",
    "print(env.tables[0].board)\n",
    "env.step()\n",
    "print(env.tables[0].board)\n",
    "env.step()\n",
    "print(env.tables[0].perf)"
   ]
  },
  {
   "cell_type": "code",
   "execution_count": 7,
   "metadata": {},
   "outputs": [
    {
     "data": {
      "text/plain": [
       "True"
      ]
     },
     "execution_count": 7,
     "metadata": {},
     "output_type": "execute_result"
    }
   ],
   "source": [
    "ref = None\n",
    "for t in env.tables:\n",
    "\tref = t"
   ]
  },
  {
   "cell_type": "code",
   "execution_count": 13,
   "metadata": {},
   "outputs": [
    {
     "name": "stdout",
     "output_type": "stream",
     "text": [
      "0\n"
     ]
    }
   ],
   "source": [
    "print(env.tables[0].perf)"
   ]
  },
  {
   "cell_type": "code",
   "execution_count": null,
   "metadata": {},
   "outputs": [],
   "source": []
  }
 ],
 "metadata": {
  "kernelspec": {
   "display_name": "Python 3",
   "language": "python",
   "name": "python3"
  },
  "language_info": {
   "codemirror_mode": {
    "name": "ipython",
    "version": 3
   },
   "file_extension": ".py",
   "mimetype": "text/x-python",
   "name": "python",
   "nbconvert_exporter": "python",
   "pygments_lexer": "ipython3",
   "version": "3.6.2"
  }
 },
 "nbformat": 4,
 "nbformat_minor": 2
}
